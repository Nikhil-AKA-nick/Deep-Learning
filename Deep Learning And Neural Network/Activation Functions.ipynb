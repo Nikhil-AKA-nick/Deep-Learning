{
 "cells": [
  {
   "cell_type": "code",
   "execution_count": 1,
   "id": "68f36233",
   "metadata": {},
   "outputs": [],
   "source": [
    "import math"
   ]
  },
  {
   "cell_type": "markdown",
   "id": "2ea25008",
   "metadata": {},
   "source": [
    "# Sigmoid Function"
   ]
  },
  {
   "cell_type": "markdown",
   "id": "806b2d6b",
   "metadata": {},
   "source": [
    "Sigmoid Function convert any value to value in between 0 and 1"
   ]
  },
  {
   "cell_type": "code",
   "execution_count": 2,
   "id": "d2b63dba",
   "metadata": {},
   "outputs": [],
   "source": [
    "def sigmoid(x):\n",
    "    return 1 / (1 + math.exp(-x))"
   ]
  },
  {
   "cell_type": "code",
   "execution_count": 3,
   "id": "897c6dac",
   "metadata": {},
   "outputs": [
    {
     "data": {
      "text/plain": [
       "1.0"
      ]
     },
     "execution_count": 3,
     "metadata": {},
     "output_type": "execute_result"
    }
   ],
   "source": [
    "sigmoid(50)"
   ]
  },
  {
   "cell_type": "code",
   "execution_count": 4,
   "id": "39545109",
   "metadata": {},
   "outputs": [
    {
     "data": {
      "text/plain": [
       "1.0"
      ]
     },
     "execution_count": 4,
     "metadata": {},
     "output_type": "execute_result"
    }
   ],
   "source": [
    "sigmoid(99)"
   ]
  },
  {
   "cell_type": "code",
   "execution_count": 5,
   "id": "91057b10",
   "metadata": {},
   "outputs": [
    {
     "data": {
      "text/plain": [
       "0.8807970779778823"
      ]
     },
     "execution_count": 5,
     "metadata": {},
     "output_type": "execute_result"
    }
   ],
   "source": [
    "sigmoid(2)"
   ]
  },
  {
   "cell_type": "code",
   "execution_count": 6,
   "id": "0c0eacdd",
   "metadata": {},
   "outputs": [
    {
     "data": {
      "text/plain": [
       "2.7894680920908113e-10"
      ]
     },
     "execution_count": 6,
     "metadata": {},
     "output_type": "execute_result"
    }
   ],
   "source": [
    "sigmoid(-22)"
   ]
  },
  {
   "cell_type": "code",
   "execution_count": 7,
   "id": "eacfea40",
   "metadata": {},
   "outputs": [
    {
     "data": {
      "text/plain": [
       "0.7290879223493065"
      ]
     },
     "execution_count": 7,
     "metadata": {},
     "output_type": "execute_result"
    }
   ],
   "source": [
    "sigmoid(0.99)"
   ]
  },
  {
   "cell_type": "markdown",
   "id": "9a99e350",
   "metadata": {},
   "source": [
    "# tanh function"
   ]
  },
  {
   "cell_type": "markdown",
   "id": "28d80e60",
   "metadata": {},
   "source": [
    "Converts any value in between -1 and 1"
   ]
  },
  {
   "cell_type": "code",
   "execution_count": 8,
   "id": "4525d896",
   "metadata": {},
   "outputs": [],
   "source": [
    "def tanh(x):\n",
    "    return (math.exp(x) - math.exp(-x)) / (math.exp(x) + math.exp(-x))"
   ]
  },
  {
   "cell_type": "code",
   "execution_count": 9,
   "id": "f7ce0c0e",
   "metadata": {},
   "outputs": [
    {
     "data": {
      "text/plain": [
       "0.9999999958776926"
      ]
     },
     "execution_count": 9,
     "metadata": {},
     "output_type": "execute_result"
    }
   ],
   "source": [
    "tanh(10)"
   ]
  },
  {
   "cell_type": "code",
   "execution_count": 10,
   "id": "3cfe371e",
   "metadata": {},
   "outputs": [
    {
     "data": {
      "text/plain": [
       "0.7615941559557649"
      ]
     },
     "execution_count": 10,
     "metadata": {},
     "output_type": "execute_result"
    }
   ],
   "source": [
    "tanh(1)"
   ]
  },
  {
   "cell_type": "code",
   "execution_count": 12,
   "id": "86688fcf",
   "metadata": {},
   "outputs": [
    {
     "data": {
      "text/plain": [
       "-0.964027580075817"
      ]
     },
     "execution_count": 12,
     "metadata": {},
     "output_type": "execute_result"
    }
   ],
   "source": [
    "tanh(-2)"
   ]
  },
  {
   "cell_type": "markdown",
   "id": "cd6208fa",
   "metadata": {},
   "source": [
    "# Relu Function"
   ]
  },
  {
   "cell_type": "markdown",
   "id": "d04b7ee5",
   "metadata": {},
   "source": [
    "It will convert any value less than 0 to 0 and any value greater that 0 will remain unchanged(Positive value remains unchanged)"
   ]
  },
  {
   "cell_type": "code",
   "execution_count": 13,
   "id": "19c55b79",
   "metadata": {},
   "outputs": [],
   "source": [
    "def relu(x):\n",
    "    return max(0,x)"
   ]
  },
  {
   "cell_type": "code",
   "execution_count": 14,
   "id": "8d2a140a",
   "metadata": {},
   "outputs": [
    {
     "data": {
      "text/plain": [
       "0"
      ]
     },
     "execution_count": 14,
     "metadata": {},
     "output_type": "execute_result"
    }
   ],
   "source": [
    "relu(-34)"
   ]
  },
  {
   "cell_type": "code",
   "execution_count": 15,
   "id": "8510a5c9",
   "metadata": {},
   "outputs": [
    {
     "data": {
      "text/plain": [
       "1"
      ]
     },
     "execution_count": 15,
     "metadata": {},
     "output_type": "execute_result"
    }
   ],
   "source": [
    "relu(1)"
   ]
  },
  {
   "cell_type": "code",
   "execution_count": 16,
   "id": "1107a8fb",
   "metadata": {},
   "outputs": [
    {
     "data": {
      "text/plain": [
       "34"
      ]
     },
     "execution_count": 16,
     "metadata": {},
     "output_type": "execute_result"
    }
   ],
   "source": [
    "relu(34)"
   ]
  },
  {
   "cell_type": "markdown",
   "id": "6dfd0675",
   "metadata": {},
   "source": [
    "# leaky_relu function"
   ]
  },
  {
   "cell_type": "markdown",
   "id": "b3b9af65",
   "metadata": {},
   "source": [
    "leaky_relu multiply negative value to 0.1 and positive value remains unchanged"
   ]
  },
  {
   "cell_type": "code",
   "execution_count": 17,
   "id": "8e8ceaca",
   "metadata": {},
   "outputs": [],
   "source": [
    "def leaky_relu(x):\n",
    "    return max(0.1*x,x)"
   ]
  },
  {
   "cell_type": "code",
   "execution_count": 20,
   "id": "1df0078a",
   "metadata": {},
   "outputs": [
    {
     "data": {
      "text/plain": [
       "-10.0"
      ]
     },
     "execution_count": 20,
     "metadata": {},
     "output_type": "execute_result"
    }
   ],
   "source": [
    "leaky_relu(-100)"
   ]
  },
  {
   "cell_type": "code",
   "execution_count": 21,
   "id": "21f10695",
   "metadata": {},
   "outputs": [
    {
     "data": {
      "text/plain": [
       "-2.0"
      ]
     },
     "execution_count": 21,
     "metadata": {},
     "output_type": "execute_result"
    }
   ],
   "source": [
    "leaky_relu(-20)"
   ]
  },
  {
   "cell_type": "code",
   "execution_count": 22,
   "id": "61d98b0b",
   "metadata": {},
   "outputs": [
    {
     "data": {
      "text/plain": [
       "3"
      ]
     },
     "execution_count": 22,
     "metadata": {},
     "output_type": "execute_result"
    }
   ],
   "source": [
    "leaky_relu(3)"
   ]
  },
  {
   "cell_type": "code",
   "execution_count": null,
   "id": "cb72b9bf",
   "metadata": {},
   "outputs": [],
   "source": []
  }
 ],
 "metadata": {
  "kernelspec": {
   "display_name": "Python 3 (ipykernel)",
   "language": "python",
   "name": "python3"
  },
  "language_info": {
   "codemirror_mode": {
    "name": "ipython",
    "version": 3
   },
   "file_extension": ".py",
   "mimetype": "text/x-python",
   "name": "python",
   "nbconvert_exporter": "python",
   "pygments_lexer": "ipython3",
   "version": "3.9.7"
  }
 },
 "nbformat": 4,
 "nbformat_minor": 5
}
