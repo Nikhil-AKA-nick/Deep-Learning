{
 "cells": [
  {
   "cell_type": "code",
   "execution_count": 1,
   "id": "b7acc1f9",
   "metadata": {},
   "outputs": [],
   "source": [
    "import numpy as np\n",
    "\n",
    "y_predicted = np.array([1,1,0,0,1])\n",
    "y_true = np.array([0.30,0.7,1,0,0.5])"
   ]
  },
  {
   "cell_type": "markdown",
   "id": "4758289f",
   "metadata": {},
   "source": [
    "# Mean Absolute Error"
   ]
  },
  {
   "cell_type": "code",
   "execution_count": 11,
   "id": "56ac6138",
   "metadata": {},
   "outputs": [],
   "source": [
    "def mae(y_true, y_predicted):\n",
    "    total_error = 0\n",
    "    for yt, yp in zip(y_true, y_predicted):      #zip function to interate through 2 array parallely\n",
    "        total_error += abs(yt - yp)\n",
    "    print(\"Total Error\", total_error)\n",
    "        #         print(yt,yp)\n",
    "    \n",
    "    mae = total_error / len(y_true)\n",
    "    print(\"MAE\",mae)\n",
    "    \n",
    "    return mae"
   ]
  },
  {
   "cell_type": "code",
   "execution_count": 12,
   "id": "c0df9ee1",
   "metadata": {},
   "outputs": [],
   "source": [
    "# mae(y_true, y_predicted)"
   ]
  },
  {
   "cell_type": "code",
   "execution_count": 13,
   "id": "346940cd",
   "metadata": {},
   "outputs": [
    {
     "name": "stdout",
     "output_type": "stream",
     "text": [
      "Total Error 2.5\n",
      "MAE 0.5\n"
     ]
    },
    {
     "data": {
      "text/plain": [
       "0.5"
      ]
     },
     "execution_count": 13,
     "metadata": {},
     "output_type": "execute_result"
    }
   ],
   "source": [
    "mae(y_true,y_predicted)"
   ]
  },
  {
   "cell_type": "code",
   "execution_count": 15,
   "id": "91372e65",
   "metadata": {},
   "outputs": [
    {
     "data": {
      "text/plain": [
       "array([ 0.7,  0.3, -1. ,  0. ,  0.5])"
      ]
     },
     "execution_count": 15,
     "metadata": {},
     "output_type": "execute_result"
    }
   ],
   "source": [
    "#Using Numpy\n",
    "y_predicted - y_true"
   ]
  },
  {
   "cell_type": "code",
   "execution_count": 16,
   "id": "bcf5ef5d",
   "metadata": {},
   "outputs": [
    {
     "data": {
      "text/plain": [
       "array([0.7, 0.3, 1. , 0. , 0.5])"
      ]
     },
     "execution_count": 16,
     "metadata": {},
     "output_type": "execute_result"
    }
   ],
   "source": [
    "np.abs(y_predicted - y_true)"
   ]
  },
  {
   "cell_type": "code",
   "execution_count": 18,
   "id": "6d257329",
   "metadata": {},
   "outputs": [
    {
     "data": {
      "text/plain": [
       "0.5"
      ]
     },
     "execution_count": 18,
     "metadata": {},
     "output_type": "execute_result"
    }
   ],
   "source": [
    "np.mean(np.abs(y_predicted - y_true))  #One line"
   ]
  },
  {
   "cell_type": "markdown",
   "id": "0f01886f",
   "metadata": {},
   "source": [
    "# Mean Square Error"
   ]
  },
  {
   "cell_type": "code",
   "execution_count": 19,
   "id": "3df01fa0",
   "metadata": {},
   "outputs": [],
   "source": [
    "def mse(y_true,y_predicted):\n",
    "    total_error = 0\n",
    "    for yt, yp in zip(y_true, y_predicted):      #zip function to interate through 2 array parallely\n",
    "        total_error += abs((yt - yp)**2)\n",
    "    print(\"Total Error\", total_error)\n",
    "        #         print(yt,yp)\n",
    "    \n",
    "    mse = total_error / len(y_true)\n",
    "    print(\"mse\",mse)\n",
    "    \n",
    "    return mse\n",
    "    "
   ]
  },
  {
   "cell_type": "code",
   "execution_count": 21,
   "id": "a51012e2",
   "metadata": {},
   "outputs": [
    {
     "name": "stdout",
     "output_type": "stream",
     "text": [
      "Total Error 1.83\n",
      "mse 0.366\n"
     ]
    },
    {
     "data": {
      "text/plain": [
       "0.366"
      ]
     },
     "execution_count": 21,
     "metadata": {},
     "output_type": "execute_result"
    }
   ],
   "source": [
    "mse(y_true,y_predicted)"
   ]
  },
  {
   "cell_type": "code",
   "execution_count": null,
   "id": "4d95460e",
   "metadata": {},
   "outputs": [],
   "source": []
  }
 ],
 "metadata": {
  "kernelspec": {
   "display_name": "Python 3 (ipykernel)",
   "language": "python",
   "name": "python3"
  },
  "language_info": {
   "codemirror_mode": {
    "name": "ipython",
    "version": 3
   },
   "file_extension": ".py",
   "mimetype": "text/x-python",
   "name": "python",
   "nbconvert_exporter": "python",
   "pygments_lexer": "ipython3",
   "version": "3.9.7"
  }
 },
 "nbformat": 4,
 "nbformat_minor": 5
}
